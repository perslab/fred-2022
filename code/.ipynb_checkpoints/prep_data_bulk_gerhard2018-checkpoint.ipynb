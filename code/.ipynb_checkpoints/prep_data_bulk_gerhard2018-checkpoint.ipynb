{
 "cells": [
  {
   "cell_type": "markdown",
   "metadata": {},
   "source": [
    "# Download and prepare Gerhard 2018 bulk liver dataset"
   ]
  },
  {
   "cell_type": "code",
   "execution_count": null,
   "metadata": {},
   "outputs": [],
   "source": [
    "## Reference\n",
    "\n",
    "Gerhard,...,DiStefano,2018, J Endocrine Soc, Transcriptomic Profiling of Obesity-Related\n",
    "Nonalcoholic Steatohepatitis Reveals a Core Set of Fibrosis-Specific Genes\n",
    "https://www.ncbi.nlm.nih.gov/pmc/articles/PMC6018672/\n",
    "\n",
    "Leti,...DiStefano,2015, Trans. Res. High-throughput sequencing reveals altered expression of\n",
    "hepatic miRNAs in non-alcoholic fatty liver disease-related fibrosis\n",
    "https://www.sciencedirect.com/science/article/pii/S1931524415001401?via%3Dihub\n",
    "\n",
    "DiStefano,...,Gerhard, 2015, Acta Diabetol., Genome-wide analysis of hepatic lipid content\n",
    "in extreme obesity\n",
    "https://link.springer.com/article/10.1007%2Fs00592-014-0654-3\n",
    "\n",
    "Garhard,...,DiStefano, 2014, J. Obes., Identification of Novel Clinical Factors Associated with\n",
    "Hepatic Fat Accumulation in Extreme Obesity\n",
    "https://www.hindawi.com/journals/jobe/2014/368210/\n",
    "\n",
    "NCBI SRA Raw sequence: https://www.ncbi.nlm.nih.gov/bioproject/512027\n",
    "\n",
    "NCBI download page: https://www.ncbi.nlm.nih.gov/home/download/\n",
    "NCBI SRA handbook: https://www.ncbi.nlm.nih.gov/books/NBK47528/\n",
    "\n",
    "metadata: via email from Johanna DiStefano"
   ]
  },
  {
   "cell_type": "code",
   "execution_count": null,
   "metadata": {},
   "outputs": [],
   "source": [
    "## notes \n",
    "\n",
    "Johanna DiStefano: \"It appears that samples DLDR_0037-46 and DLDR_61-62 are listed as normal, but are actually fibrotic (F4) samples. Please keep this in mind when you are analyzing the data.\""
   ]
  }
 ],
 "metadata": {
  "kernelspec": {
   "display_name": "sc_analysis",
   "language": "python",
   "name": "sc_analysis"
  },
  "language_info": {
   "codemirror_mode": {
    "name": "ipython",
    "version": 3
   },
   "file_extension": ".py",
   "mimetype": "text/x-python",
   "name": "python",
   "nbconvert_exporter": "python",
   "pygments_lexer": "ipython3",
   "version": "3.7.3"
  }
 },
 "nbformat": 4,
 "nbformat_minor": 4
}
